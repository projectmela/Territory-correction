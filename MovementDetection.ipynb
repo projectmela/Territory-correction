{
 "cells": [
  {
   "cell_type": "code",
   "execution_count": 6,
   "id": "5e9f06b4",
   "metadata": {},
   "outputs": [],
   "source": [
    "import os  \n",
    "import pandas as pd \n",
    "import numpy as np  \n",
    "class TerritoryMovement:\n",
    "    def __init__(self, file_path):\n",
    "        \"\"\"\n",
    "        Constructor method to initialize the TerritoryMovement object.\n",
    "\n",
    "        Args:\n",
    "            file_path (str): Path to the CSV file containing territory data.\n",
    "        \"\"\"\n",
    "        self.file_path = file_path  # Storing the file path\n",
    "        # Reading CSV file into a DataFrame with specific column names\n",
    "        self.df = pd.read_csv(file_path, skiprows=[0], header=None, names=['old', 'frame', 'pos_x', 'pos_y', 'territory_id'])\n",
    "        self.df['territory_id'] = self.df['territory_id'].astype(int)  # Converting 'territory_id' column to integer type\n",
    "        self.threshold = 10.0  # Threshold for movement detection\n",
    "        self.df['movement'] = 0  # Creating a new column for movement and initializing it with zeros\n",
    "\n",
    "    def detect_movement(self):\n",
    "        \"\"\"\n",
    "        Method to detect movement within territories based on the provided threshold.\n",
    "        \"\"\"\n",
    "        unique_territory_ids = self.df['territory_id'].unique()  # Getting unique territory IDs\n",
    "        for territory_id in unique_territory_ids:  # Iterating over each unique territory ID\n",
    "            territory_rows = self.df[self.df['territory_id'] == territory_id]  # Getting rows for the current territory ID\n",
    "            reference_x, reference_y = territory_rows.iloc[0]['pos_x'], territory_rows.iloc[0]['pos_y']  # Initializing reference coordinates\n",
    "            for index, row in territory_rows.iterrows():  # Iterating over rows for the current territory\n",
    "                distance = np.sqrt((row['pos_x'] - reference_x)**2 + (row['pos_y'] - reference_y)**2)  # Calculating Euclidean distance\n",
    "                if distance > self.threshold:  # Checking if the distance exceeds the threshold\n",
    "                    self.df.at[index, 'movement'] = 1  # Marking the row as 1 under the 'movement' column\n",
    "                    reference_x, reference_y = row['pos_x'], row['pos_y']  # Updating reference coordinates\n",
    "\n",
    "    def get_movement_rows(self):\n",
    "        \"\"\"\n",
    "        Method to retrieve the rows from the DataFrame where movement was detected.\n",
    "        \"\"\"\n",
    "        return self.df[self.df['movement'] == 1]  # Returning rows with movement\n",
    "\n",
    "    def save_updated_csv(self):\n",
    "        \"\"\"\n",
    "        Method to save the updated DataFrame to a CSV file.\n",
    "        \"\"\"\n",
    "        # Extracting filename and extension\n",
    "        file_name, file_extension = os.path.splitext(self.file_path)\n",
    "        # Generating new filename\n",
    "        new_file_name = file_name + \"_updated\" + file_extension\n",
    "        # Saving DataFrame to CSV\n",
    "        self.df.to_csv(new_file_name, index=False)\n",
    "\n",
    "# Example usage:\n",
    "file_path = 'D:/MELA/Territory/20230311_SM_Lek1_P2D4_DJI_0857_updated.csv'\n",
    "territory_analysis = TerritoryMovement(file_path)\n",
    "territory_analysis.detect_movement()\n",
    "territory_analysis.save_updated_csv()\n"
   ]
  },
  {
   "cell_type": "code",
   "execution_count": null,
   "id": "46be3767",
   "metadata": {},
   "outputs": [],
   "source": []
  }
 ],
 "metadata": {
  "kernelspec": {
   "display_name": "python (tracktor)",
   "language": "python",
   "name": "tracktor"
  },
  "language_info": {
   "codemirror_mode": {
    "name": "ipython",
    "version": 3
   },
   "file_extension": ".py",
   "mimetype": "text/x-python",
   "name": "python",
   "nbconvert_exporter": "python",
   "pygments_lexer": "ipython3",
   "version": "3.11.5"
  }
 },
 "nbformat": 4,
 "nbformat_minor": 5
}
